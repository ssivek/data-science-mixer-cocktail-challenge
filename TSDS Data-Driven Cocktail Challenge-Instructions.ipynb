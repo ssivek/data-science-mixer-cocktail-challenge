{
 "cells": [
  {
   "cell_type": "markdown",
   "metadata": {
    "ayx": {
     "cell_class": "text_cell",
     "cell_css": "border: 3px solid #357; margin: 4px; background: #fbffff",
     "cell_type": "markdown",
     "contents_keyword": "Alteryx.help()",
     "first_line": "Run `Alteryx.help()` for info about useful functions.",
     "label": "info"
    }
   },
   "source": [
    "# Data-Driven Cocktail Challenge\n",
    "## A mystery recipe to solve with pandas\n",
    "### Brought to you by Top Shelf Data Science, a new podcast from Alteryx. \n",
    "\n",
    "Top Shelf Data Science features top experts in lively and informative conversations that will change the way you do data science. We'll explore important topics in machine learning and AI with the innovators shaping the field, diving deep but keeping it light with happy hour beverages and snacks.\n",
    "\n",
    "Find us in your favorite podcast player and at alteryx.com/topshelf."
   ]
  },
  {
   "cell_type": "markdown",
   "metadata": {},
   "source": [
    "***"
   ]
  },
  {
   "cell_type": "markdown",
   "metadata": {},
   "source": [
    "You'll need [this dataset of cocktail recipes](https://www.kaggle.com/ai-first/cocktail-ingredients) to complete this challenge. Remember that a completed version of this notebook, showing one way to get the answers, is available in the blog post. There's also a PDF version of the full recipe if you get too thirsty and just want to make the drink already!"
   ]
  },
  {
   "cell_type": "code",
   "execution_count": 1,
   "metadata": {},
   "outputs": [],
   "source": [
    "# Step 1a\n",
    "# Find the cocktail in the dataset that includes raspberry vodka as its first ingredient. \n",
    "# What is the measurement for that first ingredient?"
   ]
  },
  {
   "cell_type": "code",
   "execution_count": 2,
   "metadata": {},
   "outputs": [],
   "source": [
    "# Step 1b\n",
    "# Only one drink contains apricot brandy as its first ingredient and apple brandy as its second. \n",
    "# What’s the quantity for apricot brandy? "
   ]
  },
  {
   "cell_type": "code",
   "execution_count": 3,
   "metadata": {},
   "outputs": [],
   "source": [
    "# Step 1c\n",
    "# Only one drink is served in a highball glass and has sugar as its first ingredient. \n",
    "# What’s the quantity for sugar?"
   ]
  },
  {
   "cell_type": "code",
   "execution_count": 4,
   "metadata": {},
   "outputs": [],
   "source": [
    "# Step 1d\n",
    "# Only one drink is served in a punch bowl (as its “glass”) and has “apple” in its name. \n",
    "# What’s the measurement for its first ingredient?"
   ]
  },
  {
   "cell_type": "code",
   "execution_count": 5,
   "metadata": {},
   "outputs": [],
   "source": [
    "# Step 2a\n",
    "# First ingredient\n",
    "# Find the drink at index 462. What is its second ingredient?"
   ]
  },
  {
   "cell_type": "code",
   "execution_count": 6,
   "metadata": {},
   "outputs": [],
   "source": [
    "# Step 2b\n",
    "# Second ingredient\n",
    "# Find the size of the cocktail dataframe. Divide the size by 93 and round the result to 0 decimal places.\n",
    "# Find the cocktail at that index in the dataframe. What is its first ingredient?"
   ]
  },
  {
   "cell_type": "code",
   "execution_count": 7,
   "metadata": {},
   "outputs": [],
   "source": [
    "# Step 2c\n",
    "# Third ingredient\n",
    "# How many drinks in the dataset are listed as \"Alcoholic\"?\n",
    "# Find that number and subtract 29.\n",
    "# Then identify the drink at that index in the dataset and find its fourth ingredient."
   ]
  },
  {
   "cell_type": "code",
   "execution_count": 8,
   "metadata": {},
   "outputs": [],
   "source": [
    "# Step 2d\n",
    "# Fourth ingredient\n",
    "# Three drinks have names 13 characters long that contain the word \"Amaretto.\"\n",
    "# Find the third ingredient of the drink whose name is second alphabetically among those three drinks."
   ]
  },
  {
   "cell_type": "code",
   "execution_count": 9,
   "metadata": {},
   "outputs": [],
   "source": [
    "# Step 2e\n",
    "# Fifth ingredient\n",
    "# How many unique values are there for the first measurement column? \n",
    "# Find the drink at the index for that value. Identify its third ingredient.\n",
    "# You will need a slice of that ingredient as your final item for the recipe."
   ]
  },
  {
   "cell_type": "code",
   "execution_count": 10,
   "metadata": {},
   "outputs": [],
   "source": [
    "# Step 3\n",
    "# Shake or stir?\n",
    "# How many drinks contain \"stir\" in their instructions? Be sure your query is not case sensitive.\n",
    "# If the number is less than 200, use \"shake\" in your recipe; if 200 or more, use \"stir\" in the recipe."
   ]
  },
  {
   "cell_type": "code",
   "execution_count": 11,
   "metadata": {},
   "outputs": [],
   "source": [
    "# Step 4\n",
    "# Which kind of glass should this drink use?\n",
    "# Find the memory in bytes used by the names of the drinks ('strDrink' column).\n",
    "# What is the third digit of the resulting number? \n",
    "# Find the drink at that index; put the same kind of glass it uses into your recipe's instructions."
   ]
  }
 ],
 "metadata": {
  "kernelspec": {
   "display_name": "Python 3",
   "language": "python",
   "name": "python3"
  },
  "language_info": {
   "codemirror_mode": {
    "name": "ipython",
    "version": 3
   },
   "file_extension": ".py",
   "mimetype": "text/x-python",
   "name": "python",
   "nbconvert_exporter": "python",
   "pygments_lexer": "ipython3",
   "version": "3.7.6"
  }
 },
 "nbformat": 4,
 "nbformat_minor": 2
}
