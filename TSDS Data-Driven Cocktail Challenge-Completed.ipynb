{
 "cells": [
  {
   "cell_type": "markdown",
   "metadata": {
    "ayx": {
     "cell_class": "text_cell",
     "cell_css": "border: 3px solid #357; margin: 4px; background: #fbffff",
     "cell_type": "markdown",
     "contents_keyword": "Alteryx.help()",
     "first_line": "Run `Alteryx.help()` for info about useful functions.",
     "label": "info"
    }
   },
   "source": [
    "# Data-Driven Cocktail Challenge\n",
    "## A mystery recipe to solve with pandas\n",
    "### Brought to you by Top Shelf Data Science, a new podcast from Alteryx. \n",
    "\n",
    "Top Shelf Data Science features top experts in lively and informative conversations that will change the way you do data science. We'll explore important topics in machine learning and AI with the innovators shaping the field, diving deep but keeping it light with happy hour beverages and snacks.\n",
    "\n",
    "Find us in your favorite podcast player and at alteryx.com/topshelf."
   ]
  },
  {
   "cell_type": "markdown",
   "metadata": {},
   "source": [
    "***"
   ]
  },
  {
   "cell_type": "markdown",
   "metadata": {},
   "source": [
    "You'll need [this dataset of cocktail recipes](https://www.kaggle.com/ai-first/cocktail-ingredients) to complete this challenge!"
   ]
  },
  {
   "cell_type": "code",
   "execution_count": 18,
   "metadata": {},
   "outputs": [],
   "source": [
    "import pandas as pd\n",
    "import numpy as np"
   ]
  },
  {
   "cell_type": "code",
   "execution_count": 19,
   "metadata": {},
   "outputs": [],
   "source": [
    "# Update file location for your downloaded dataset\n",
    "\n",
    "df = pd.read_csv(\"all_drinks.csv\")"
   ]
  },
  {
   "cell_type": "code",
   "execution_count": 32,
   "metadata": {},
   "outputs": [
    {
     "data": {
      "text/plain": [
       "428    2 oz \n",
       "Name: strMeasure1, dtype: object"
      ]
     },
     "execution_count": 32,
     "metadata": {},
     "output_type": "execute_result"
    }
   ],
   "source": [
    "# Step 1a\n",
    "# Find the cocktail in the dataset that includes raspberry vodka as its first ingredient. \n",
    "# What is the measurement for that first ingredient?\n",
    "\n",
    "df.loc[df['strIngredient1'] == 'Raspberry vodka', 'strMeasure1']"
   ]
  },
  {
   "cell_type": "code",
   "execution_count": 21,
   "metadata": {},
   "outputs": [
    {
     "data": {
      "text/plain": [
       "87    1/2 oz \n",
       "Name: strMeasure1, dtype: object"
      ]
     },
     "execution_count": 21,
     "metadata": {},
     "output_type": "execute_result"
    }
   ],
   "source": [
    "# Step 1b\n",
    "# Only one drink contains apricot brandy as its first ingredient and apple brandy as its second. \n",
    "# What’s the quantity for apricot brandy? \n",
    "\n",
    "df.loc[(df['strIngredient1'] == 'Apricot brandy') & (df['strIngredient2'] == 'Apple brandy'), 'strMeasure1']"
   ]
  },
  {
   "cell_type": "code",
   "execution_count": 22,
   "metadata": {},
   "outputs": [
    {
     "data": {
      "text/plain": [
       "160    1 tsp superfine \n",
       "Name: strMeasure1, dtype: object"
      ]
     },
     "execution_count": 22,
     "metadata": {},
     "output_type": "execute_result"
    }
   ],
   "source": [
    "# Step 1c\n",
    "# Only one drink is served in a highball glass and has sugar as its first ingredient. \n",
    "# What’s the quantity for sugar?\n",
    "\n",
    "df.loc[(df['strIngredient1'] == 'Sugar') & (df['strGlass'] == 'Highball glass'), 'strMeasure1']"
   ]
  },
  {
   "cell_type": "code",
   "execution_count": 23,
   "metadata": {},
   "outputs": [
    {
     "data": {
      "text/plain": [
       "92    3 oz \n",
       "Name: strMeasure1, dtype: object"
      ]
     },
     "execution_count": 23,
     "metadata": {},
     "output_type": "execute_result"
    }
   ],
   "source": [
    "# Step 1d\n",
    "# Only one drink is served in a punch bowl (as its “glass”) and has “apple” in its name. \n",
    "# What’s the measurement for its first ingredient?\n",
    "\n",
    "df.loc[(df['strGlass'] == 'Punch Bowl') & (df['strDrink'].str.contains(\"Apple\")), 'strMeasure1']"
   ]
  },
  {
   "cell_type": "code",
   "execution_count": 24,
   "metadata": {},
   "outputs": [
    {
     "data": {
      "text/plain": [
       "'Powdered sugar'"
      ]
     },
     "execution_count": 24,
     "metadata": {},
     "output_type": "execute_result"
    }
   ],
   "source": [
    "# Step 2a\n",
    "# First ingredient\n",
    "# Find the drink at index 462. What is its second ingredient?\n",
    "\n",
    "df.iloc[462]['strIngredient2']"
   ]
  },
  {
   "cell_type": "code",
   "execution_count": 33,
   "metadata": {},
   "outputs": [
    {
     "data": {
      "text/plain": [
       "'Gin'"
      ]
     },
     "execution_count": 33,
     "metadata": {},
     "output_type": "execute_result"
    }
   ],
   "source": [
    "# Step 2b\n",
    "# Second ingredient\n",
    "# Find the size of the cocktail dataframe. Divide the size by 93 and round the result to 0 decimal places.\n",
    "# Find the cocktail at that index in the dataframe. What is its first ingredient?\n",
    "\n",
    "df.loc[(df.size / 93).round()]['strIngredient1']"
   ]
  },
  {
   "cell_type": "code",
   "execution_count": 26,
   "metadata": {},
   "outputs": [
    {
     "data": {
      "text/plain": [
       "'Lemon juice'"
      ]
     },
     "execution_count": 26,
     "metadata": {},
     "output_type": "execute_result"
    }
   ],
   "source": [
    "# Step 2c\n",
    "# Third ingredient\n",
    "# How many drinks in the dataset are listed as \"Alcoholic\"?\n",
    "# Find that number and subtract 29.\n",
    "# Then identify the drink at that index in the dataset and find its fourth ingredient.\n",
    "\n",
    "df.iloc[(df['strAlcoholic'] == 'Alcoholic').sum(axis=0) - 29]['strIngredient4']"
   ]
  },
  {
   "cell_type": "code",
   "execution_count": 35,
   "metadata": {},
   "outputs": [
    {
     "data": {
      "text/plain": [
       "76    Club soda\n",
       "Name: strIngredient3, dtype: object"
      ]
     },
     "execution_count": 35,
     "metadata": {},
     "output_type": "execute_result"
    }
   ],
   "source": [
    "# Step 2d\n",
    "# Fourth ingredient\n",
    "# Three drinks have names 13 characters long that contain the word \"Amaretto.\"\n",
    "# Find the third ingredient of the drink whose name is second alphabetically among those three drinks.\n",
    "\n",
    "df.loc[(df['strDrink'].str.len() == 13) & (df['strDrink'].str.contains(\"Amaretto\"))]['strIngredient3'][1:2]"
   ]
  },
  {
   "cell_type": "code",
   "execution_count": 37,
   "metadata": {},
   "outputs": [
    {
     "data": {
      "text/plain": [
       "'Lemon'"
      ]
     },
     "execution_count": 37,
     "metadata": {},
     "output_type": "execute_result"
    }
   ],
   "source": [
    "# Step 2e\n",
    "# Fifth ingredient\n",
    "# How many unique values are there for the first measurement column? \n",
    "# Find the drink at the index for that value. Identify its third ingredient.\n",
    "# You will need a slice of that ingredient as your final item for the recipe.\n",
    "\n",
    "df.iloc[df['strMeasure1'].nunique()]['strIngredient3']"
   ]
  },
  {
   "cell_type": "code",
   "execution_count": 39,
   "metadata": {},
   "outputs": [
    {
     "data": {
      "text/plain": [
       "152"
      ]
     },
     "execution_count": 39,
     "metadata": {},
     "output_type": "execute_result"
    }
   ],
   "source": [
    "# Step 3\n",
    "# Shake or stir?\n",
    "# How many drinks contain \"stir\" in their instructions? Be sure your query is not case sensitive.\n",
    "# If the number is less than 200, use \"shake\" in your recipe; if 200 or more, use \"stir\" in the recipe.\n",
    "\n",
    "df[df['strInstructions'].str.contains(\"Stir\", case=False, na=False)].shape[0]"
   ]
  },
  {
   "cell_type": "code",
   "execution_count": 40,
   "metadata": {},
   "outputs": [
    {
     "data": {
      "text/plain": [
       "'Collins Glass'"
      ]
     },
     "execution_count": 40,
     "metadata": {},
     "output_type": "execute_result"
    }
   ],
   "source": [
    "# Step 4\n",
    "# Which kind of glass should this drink use?\n",
    "# Find the memory in bytes used by the names of the drinks ('strDrink' column).\n",
    "# What is the third digit of the resulting number? \n",
    "# Find the drink at that index; put the same kind of glass it uses into your recipe's instructions.\n",
    "\n",
    "df.iloc[int(str(df['strDrink'].memory_usage())[2])]['strGlass']"
   ]
  }
 ],
 "metadata": {
  "kernelspec": {
   "display_name": "Python 3",
   "language": "python",
   "name": "python3"
  },
  "language_info": {
   "codemirror_mode": {
    "name": "ipython",
    "version": 3
   },
   "file_extension": ".py",
   "mimetype": "text/x-python",
   "name": "python",
   "nbconvert_exporter": "python",
   "pygments_lexer": "ipython3",
   "version": "3.7.6"
  }
 },
 "nbformat": 4,
 "nbformat_minor": 2
}
